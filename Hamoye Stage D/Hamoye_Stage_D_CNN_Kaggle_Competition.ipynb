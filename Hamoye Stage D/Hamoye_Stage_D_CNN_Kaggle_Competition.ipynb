{
 "cells": [
  {
   "cell_type": "code",
   "execution_count": 1,
   "metadata": {
    "_cell_guid": "b1076dfc-b9ad-4769-8c92-a6c4dae69d19",
    "_uuid": "8f2839f25d086af736a60e9eeb907d3b93b6e0e5",
    "execution": {
     "iopub.execute_input": "2022-03-22T22:35:29.904416Z",
     "iopub.status.busy": "2022-03-22T22:35:29.903730Z",
     "iopub.status.idle": "2022-03-22T22:35:29.915856Z",
     "shell.execute_reply": "2022-03-22T22:35:29.915017Z",
     "shell.execute_reply.started": "2022-03-22T22:35:29.904318Z"
    }
   },
   "outputs": [],
   "source": [
    "# This Python 3 environment comes with many helpful analytics libraries installed\n",
    "# It is defined by the kaggle/python Docker image: https://github.com/kaggle/docker-python\n",
    "# For example, here's several helpful packages to load\n",
    "\n",
    "import numpy as np # linear algebra\n",
    "import pandas as pd # data processing, CSV file I/O (e.g. pd.read_csv)\n",
    "\n",
    "# Input data files are available in the read-only \"../input/\" directory\n",
    "# For example, running this (by clicking run or pressing Shift+Enter) will list all files under the input directory\n",
    "\n",
    "import os\n",
    "#for dirname, _, filenames in os.walk('/kaggle/input'):\n",
    "    #for filename in filenames:\n",
    "      # print(os.path.join(dirname))\n",
    "\n",
    "# You can write up to 20GB to the current directory (/kaggle/working/) that gets preserved as output when you create a version using \"Save & Run All\" \n",
    "# You can also write temporary files to /kaggle/temp/, but they won't be saved outside of the current session"
   ]
  },
  {
   "cell_type": "code",
   "execution_count": 2,
   "metadata": {
    "execution": {
     "iopub.execute_input": "2022-03-22T22:35:30.112358Z",
     "iopub.status.busy": "2022-03-22T22:35:30.111914Z",
     "iopub.status.idle": "2022-03-22T22:35:30.151812Z",
     "shell.execute_reply": "2022-03-22T22:35:30.151122Z",
     "shell.execute_reply.started": "2022-03-22T22:35:30.112328Z"
    }
   },
   "outputs": [],
   "source": [
    "# creating path to training and testing files and listing number of images in the train and test files\n",
    "\n",
    "path = \"../input/planets-dataset/planet/planet/\"\n",
    "path_train = os.path.join(path, \"train-jpg\")\n",
    "path_test = os.path.join(path, \"test-jpg\")\n",
    "print('Amount of train files:', len(os.listdir(path_train)), '  Amount of test files:', len(os.listdir(path_test)))"
   ]
  },
  {
   "cell_type": "code",
   "execution_count": 3,
   "metadata": {
    "execution": {
     "iopub.execute_input": "2022-03-22T22:35:30.282589Z",
     "iopub.status.busy": "2022-03-22T22:35:30.282294Z",
     "iopub.status.idle": "2022-03-22T22:35:30.336098Z",
     "shell.execute_reply": "2022-03-22T22:35:30.335417Z",
     "shell.execute_reply.started": "2022-03-22T22:35:30.282560Z"
    }
   },
   "outputs": [],
   "source": [
    "# passing the train labels into a csv file\n",
    "\n",
    "train_labels = pd.read_csv(path+'train_classes.csv', index_col= 0)\n",
    "train_labels.head()"
   ]
  },
  {
   "cell_type": "markdown",
   "metadata": {},
   "source": [
    "## Some checks on the label."
   ]
  },
  {
   "cell_type": "code",
   "execution_count": 4,
   "metadata": {
    "execution": {
     "iopub.execute_input": "2022-03-22T22:35:30.492347Z",
     "iopub.status.busy": "2022-03-22T22:35:30.492141Z",
     "iopub.status.idle": "2022-03-22T22:35:30.657991Z",
     "shell.execute_reply": "2022-03-22T22:35:30.657258Z",
     "shell.execute_reply.started": "2022-03-22T22:35:30.492322Z"
    }
   },
   "outputs": [],
   "source": [
    "train_labels.isna().sum().plot(kind= 'bar')"
   ]
  },
  {
   "cell_type": "code",
   "execution_count": 5,
   "metadata": {
    "execution": {
     "iopub.execute_input": "2022-03-22T22:35:30.659963Z",
     "iopub.status.busy": "2022-03-22T22:35:30.659559Z",
     "iopub.status.idle": "2022-03-22T22:35:30.675186Z",
     "shell.execute_reply": "2022-03-22T22:35:30.674357Z",
     "shell.execute_reply.started": "2022-03-22T22:35:30.659923Z"
    }
   },
   "outputs": [],
   "source": [
    "train_labels.info()\n",
    "\n",
    "# no missing values"
   ]
  },
  {
   "cell_type": "code",
   "execution_count": 6,
   "metadata": {
    "execution": {
     "iopub.execute_input": "2022-03-22T22:35:30.719424Z",
     "iopub.status.busy": "2022-03-22T22:35:30.719025Z",
     "iopub.status.idle": "2022-03-22T22:35:30.729650Z",
     "shell.execute_reply": "2022-03-22T22:35:30.728857Z",
     "shell.execute_reply.started": "2022-03-22T22:35:30.719393Z"
    }
   },
   "outputs": [],
   "source": [
    "# viewing some labels\n",
    "list(train_labels.tags)[0:10]"
   ]
  },
  {
   "cell_type": "markdown",
   "metadata": {},
   "source": [
    "# Imports"
   ]
  },
  {
   "cell_type": "code",
   "execution_count": 7,
   "metadata": {
    "execution": {
     "iopub.execute_input": "2022-03-22T22:35:30.822995Z",
     "iopub.status.busy": "2022-03-22T22:35:30.822785Z",
     "iopub.status.idle": "2022-03-22T22:35:32.961994Z",
     "shell.execute_reply": "2022-03-22T22:35:32.961205Z",
     "shell.execute_reply.started": "2022-03-22T22:35:30.822950Z"
    }
   },
   "outputs": [],
   "source": [
    "import cv2\n",
    "import matplotlib.pyplot as plt\n",
    "import seaborn as sns\n",
    "import tensorflow as tf\n",
    "from keras.layers import Dense, Dropout, Flatten\n",
    "from keras.layers import Conv2D, MaxPooling2D"
   ]
  },
  {
   "cell_type": "code",
   "execution_count": 8,
   "metadata": {
    "execution": {
     "iopub.execute_input": "2022-03-22T22:35:32.963923Z",
     "iopub.status.busy": "2022-03-22T22:35:32.963660Z",
     "iopub.status.idle": "2022-03-22T22:35:33.406937Z",
     "shell.execute_reply": "2022-03-22T22:35:33.406247Z",
     "shell.execute_reply.started": "2022-03-22T22:35:32.963884Z"
    }
   },
   "outputs": [],
   "source": [
    "# visualizing some images\n",
    "for images in os.listdir(path_train)[0:2]:\n",
    "    img = cv2.imread(path+'train-jpg/{}'.format(images))\n",
    "    plt.imshow(img)\n",
    "    plt.show()\n",
    "    \n",
    "    "
   ]
  },
  {
   "cell_type": "code",
   "execution_count": 9,
   "metadata": {
    "execution": {
     "iopub.execute_input": "2022-03-22T22:35:33.409127Z",
     "iopub.status.busy": "2022-03-22T22:35:33.408028Z",
     "iopub.status.idle": "2022-03-22T22:35:33.638665Z",
     "shell.execute_reply": "2022-03-22T22:35:33.637944Z",
     "shell.execute_reply.started": "2022-03-22T22:35:33.409083Z"
    }
   },
   "outputs": [],
   "source": [
    "# function to flatten the inputs\n",
    "flatten = lambda l: [item for sublist in l for item in sublist]\n",
    "\n",
    "# getting unique classes from the tags column\n",
    "classes = list(set(flatten([l.split(' ') for l in train_labels['tags'].values])))\n",
    "\n",
    "labels = list(set(flatten([l.split(' ') for l in train_labels['tags'].values])))\n",
    "label_numbs = {l: i for i, l in enumerate(labels)}"
   ]
  },
  {
   "cell_type": "code",
   "execution_count": 10,
   "metadata": {
    "execution": {
     "iopub.execute_input": "2022-03-22T22:35:33.641079Z",
     "iopub.status.busy": "2022-03-22T22:35:33.640794Z",
     "iopub.status.idle": "2022-03-22T22:35:33.648049Z",
     "shell.execute_reply": "2022-03-22T22:35:33.647308Z",
     "shell.execute_reply.started": "2022-03-22T22:35:33.641043Z"
    }
   },
   "outputs": [],
   "source": [
    "labels"
   ]
  },
  {
   "cell_type": "code",
   "execution_count": 11,
   "metadata": {
    "execution": {
     "iopub.execute_input": "2022-03-22T22:35:33.649815Z",
     "iopub.status.busy": "2022-03-22T22:35:33.649252Z",
     "iopub.status.idle": "2022-03-22T22:35:33.654639Z",
     "shell.execute_reply": "2022-03-22T22:35:33.653784Z",
     "shell.execute_reply.started": "2022-03-22T22:35:33.649771Z"
    }
   },
   "outputs": [],
   "source": [
    "x_train = []\n",
    "y_train = []"
   ]
  },
  {
   "cell_type": "code",
   "execution_count": 12,
   "metadata": {
    "execution": {
     "iopub.execute_input": "2022-03-22T22:35:33.657076Z",
     "iopub.status.busy": "2022-03-22T22:35:33.656264Z",
     "iopub.status.idle": "2022-03-22T22:36:52.674476Z",
     "shell.execute_reply": "2022-03-22T22:36:52.673700Z",
     "shell.execute_reply.started": "2022-03-22T22:35:33.657039Z"
    }
   },
   "outputs": [],
   "source": [
    "for tr, tags in zip(os.listdir(path_train), list(train_labels.tags)):\n",
    "    img = cv2.imread(path+'train-jpg/{}'.format(tr))\n",
    "    \n",
    "    targets = np.zeros(17)\n",
    "\n",
    "    # some tags contain more than one feature so we put a one for each feature the tag contains.\n",
    "    for t in tags.split(' '):\n",
    "        targets[label_numbs[t]] = 1 \n",
    "    x_train.append(cv2.resize(img, (32, 32)))\n",
    "    y_train.append(targets)"
   ]
  },
  {
   "cell_type": "code",
   "execution_count": 13,
   "metadata": {
    "execution": {
     "iopub.execute_input": "2022-03-22T22:36:52.677423Z",
     "iopub.status.busy": "2022-03-22T22:36:52.676876Z",
     "iopub.status.idle": "2022-03-22T22:36:55.118220Z",
     "shell.execute_reply": "2022-03-22T22:36:55.117462Z",
     "shell.execute_reply.started": "2022-03-22T22:36:52.677384Z"
    }
   },
   "outputs": [],
   "source": [
    "y_train = np.array(y_train, np.uint8)\n",
    "\n",
    "# scaling the data\n",
    "x_train = np.array(x_train, np.float16) / 255.\n"
   ]
  },
  {
   "cell_type": "code",
   "execution_count": 14,
   "metadata": {
    "execution": {
     "iopub.execute_input": "2022-03-22T22:36:55.120001Z",
     "iopub.status.busy": "2022-03-22T22:36:55.119732Z",
     "iopub.status.idle": "2022-03-22T22:36:55.124453Z",
     "shell.execute_reply": "2022-03-22T22:36:55.123552Z",
     "shell.execute_reply.started": "2022-03-22T22:36:55.119949Z"
    }
   },
   "outputs": [],
   "source": [
    "# spliting data into train and test\n",
    "no_in_train = 36000"
   ]
  },
  {
   "cell_type": "code",
   "execution_count": 15,
   "metadata": {
    "execution": {
     "iopub.execute_input": "2022-03-22T22:36:55.126385Z",
     "iopub.status.busy": "2022-03-22T22:36:55.126128Z",
     "iopub.status.idle": "2022-03-22T22:36:55.133269Z",
     "shell.execute_reply": "2022-03-22T22:36:55.132317Z",
     "shell.execute_reply.started": "2022-03-22T22:36:55.126350Z"
    }
   },
   "outputs": [],
   "source": [
    "x_train, x_validate, y_train, y_validate = x_train[:no_in_train], x_train[no_in_train:], y_train[:no_in_train], y_train[no_in_train:]"
   ]
  },
  {
   "cell_type": "code",
   "execution_count": 16,
   "metadata": {
    "execution": {
     "iopub.execute_input": "2022-03-22T22:36:55.136281Z",
     "iopub.status.busy": "2022-03-22T22:36:55.135711Z",
     "iopub.status.idle": "2022-03-22T22:36:56.071469Z",
     "shell.execute_reply": "2022-03-22T22:36:56.069730Z",
     "shell.execute_reply.started": "2022-03-22T22:36:55.136246Z"
    }
   },
   "outputs": [],
   "source": [
    "model = tf.keras.models.Sequential()"
   ]
  },
  {
   "cell_type": "code",
   "execution_count": 17,
   "metadata": {
    "execution": {
     "iopub.execute_input": "2022-03-22T22:36:56.073232Z",
     "iopub.status.busy": "2022-03-22T22:36:56.072936Z",
     "iopub.status.idle": "2022-03-22T22:37:05.128341Z",
     "shell.execute_reply": "2022-03-22T22:37:05.127641Z",
     "shell.execute_reply.started": "2022-03-22T22:36:56.073196Z"
    }
   },
   "outputs": [],
   "source": [
    "# adding layers\n",
    "model.add(Conv2D(32, (3, 3), activation='relu', input_shape=(32, 32, 3)))\n",
    "model.add(MaxPooling2D(pool_size=(2, 2)))\n",
    "\n",
    "model.add(Conv2D(128, (3, 3), activation='relu'))\n",
    "model.add(MaxPooling2D(pool_size=(2, 2)))\n",
    "\n",
    "model.add(Dropout(0.3))\n",
    "model.add(Flatten())\n",
    "\n",
    "model.add(Dense(128, activation='relu'))\n",
    "model.add(Dropout(0.5))\n",
    "\n",
    "model.add(Dense(64, activation= 'relu'))\n",
    "\n",
    "model.add(Dense(17, activation='sigmoid'))\n",
    "\n",
    "model.compile(loss='binary_crossentropy',  optimizer='adam', metrics=['accuracy'])\n",
    "              \n",
    "model.fit(x_train, y_train,\n",
    "          batch_size=128,\n",
    "          epochs=4,\n",
    "          verbose=1,\n",
    "          validation_data=(x_validate, y_validate))"
   ]
  },
  {
   "cell_type": "code",
   "execution_count": 20,
   "metadata": {
    "execution": {
     "iopub.execute_input": "2022-03-22T22:41:13.404958Z",
     "iopub.status.busy": "2022-03-22T22:41:13.404438Z",
     "iopub.status.idle": "2022-03-22T22:45:44.745828Z",
     "shell.execute_reply": "2022-03-22T22:45:44.745045Z",
     "shell.execute_reply.started": "2022-03-22T22:41:13.404919Z"
    }
   },
   "outputs": [],
   "source": [
    "# Predicting on the test data\n",
    "x_test =[]\n",
    "for test in os.listdir(path_test):\n",
    "    img_test = cv2.imread(path+'test-jpg/{}'.format(test))\n",
    "    \n",
    "    x_test.append(cv2.resize(img, (32, 32)))"
   ]
  },
  {
   "cell_type": "code",
   "execution_count": 21,
   "metadata": {
    "execution": {
     "iopub.execute_input": "2022-03-22T22:46:09.490391Z",
     "iopub.status.busy": "2022-03-22T22:46:09.489838Z",
     "iopub.status.idle": "2022-03-22T22:46:09.504269Z",
     "shell.execute_reply": "2022-03-22T22:46:09.503468Z",
     "shell.execute_reply.started": "2022-03-22T22:46:09.490338Z"
    }
   },
   "outputs": [],
   "source": [
    "x_test[0]"
   ]
  },
  {
   "cell_type": "code",
   "execution_count": 22,
   "metadata": {
    "execution": {
     "iopub.execute_input": "2022-03-22T22:47:00.673678Z",
     "iopub.status.busy": "2022-03-22T22:47:00.673143Z",
     "iopub.status.idle": "2022-03-22T22:47:03.061603Z",
     "shell.execute_reply": "2022-03-22T22:47:03.060827Z",
     "shell.execute_reply.started": "2022-03-22T22:47:00.673640Z"
    }
   },
   "outputs": [],
   "source": [
    "x_test = np.array(x_test, np.float16) / 255.\n"
   ]
  },
  {
   "cell_type": "code",
   "execution_count": 24,
   "metadata": {
    "execution": {
     "iopub.execute_input": "2022-03-22T22:47:55.605726Z",
     "iopub.status.busy": "2022-03-22T22:47:55.605457Z",
     "iopub.status.idle": "2022-03-22T22:47:57.594071Z",
     "shell.execute_reply": "2022-03-22T22:47:57.593278Z",
     "shell.execute_reply.started": "2022-03-22T22:47:55.605697Z"
    }
   },
   "outputs": [],
   "source": [
    "test_predictions = model.predict(x_test, batch_size= 128)"
   ]
  },
  {
   "cell_type": "code",
   "execution_count": 27,
   "metadata": {
    "execution": {
     "iopub.execute_input": "2022-03-22T22:48:23.727198Z",
     "iopub.status.busy": "2022-03-22T22:48:23.726922Z",
     "iopub.status.idle": "2022-03-22T22:48:23.734868Z",
     "shell.execute_reply": "2022-03-22T22:48:23.734036Z",
     "shell.execute_reply.started": "2022-03-22T22:48:23.727169Z"
    }
   },
   "outputs": [],
   "source": [
    "test_predictions"
   ]
  },
  {
   "cell_type": "code",
   "execution_count": 26,
   "metadata": {
    "execution": {
     "iopub.execute_input": "2022-03-22T22:48:11.107354Z",
     "iopub.status.busy": "2022-03-22T22:48:11.107077Z",
     "iopub.status.idle": "2022-03-22T22:48:11.156246Z",
     "shell.execute_reply": "2022-03-22T22:48:11.155031Z",
     "shell.execute_reply.started": "2022-03-22T22:48:11.107326Z"
    }
   },
   "outputs": [],
   "source": [
    "test_df = pd.DataFrame({'image_name': [c for c in os.listdir(path_test)], 'tags':[test_prediction]})"
   ]
  },
  {
   "cell_type": "code",
   "execution_count": null,
   "metadata": {},
   "outputs": [],
   "source": []
  }
 ],
 "metadata": {
  "kernelspec": {
   "display_name": "Python 3",
   "language": "python",
   "name": "python3"
  },
  "language_info": {
   "codemirror_mode": {
    "name": "ipython",
    "version": 3
   },
   "file_extension": ".py",
   "mimetype": "text/x-python",
   "name": "python",
   "nbconvert_exporter": "python",
   "pygments_lexer": "ipython3",
   "version": "3.8.3"
  }
 },
 "nbformat": 4,
 "nbformat_minor": 4
}
